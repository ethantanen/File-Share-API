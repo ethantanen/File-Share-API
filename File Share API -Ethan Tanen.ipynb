{
 "cells": [
  {
   "cell_type": "markdown",
   "metadata": {},
   "source": [
    "# File Share API - Ethan Tanen\n",
    "\n",
    "\n",
    "## Introduction \n",
    "\n",
    "Here’s a short guide on how to implement a basic file sharing API using Node.js with an Express.js framework and a Mongo database. The minimal viable product is a piece of software that has the ability to tag and upload files to a database, search the database using tags as keywords and download files to the users file system. \n"
   ]
  },
  {
   "cell_type": "markdown",
   "metadata": {},
   "source": [
    "## Node.js and Express.js\n",
    "\n",
    "Node.js is an event driven JavaScript runtime, namely for creating server environments. Arguably, NPM or Node’s Package Manager is just as impressive as Node.js itself. NPM, as mentioned on the Node.js website, is the largest ecosystem of open source libraries in the world! It makes it simple to add funtinality to an application without having to know the specificities behind the technology. \n",
    "\n",
    "Express.js is a Node.js web application framework that makes designing web applications a breeze. More on this later.\n",
    "\n",
    "Here are links to the two pieces of software in question. \n",
    "<ul>\n",
    "    <li> https://nodejs.org/en/about/ </li>\n",
    "    <li> https://expressjs.com/ </li>\n",
    "    \n",
    "</ul>\n"
   ]
  },
  {
   "cell_type": "markdown",
   "metadata": {},
   "source": [
    "## MongoDB, GridFS and MLab\n",
    "\n",
    "MongoDB is a document database that stores information in JSON, a format familiar to most developers. If you’re unfamiliar with JSON, now is a good time to give it a quick google search. MongoDB stores complex files in BSON format, which is a binary representation of the file in question. The limitations of MongoDB include a hard cap at 16MB per document. The MVP described above specifies that any file should be able to be stored in the database. To remedy this issue, we are going to use GridFS.\n",
    "\n",
    "GridFS parses large BSON documents into 255 kB chunks and keeps track of the chunk ordering for you, such that retrieval of the documents is as easy as a single method call! GridFS uses two collections to store files. The first collection is titled ‘chunks’ and it stores the binary chunks. The other collection is titled ‘files’, which stores information on which chunks comprise a single document. The other advantage of GridFS is the stream functions, which allow large documents to be moved between database and filesystem without having to move the entire file into memory. \n",
    "\n",
    "Here are links to the pieces of software in question. Click the second link and create a free account on mLab. \n",
    "\n",
    "<ul>\n",
    "    <li> https://docs.mongodb.com/manual/core/gridfs/ </li>\n",
    "    <li> https://mlab.com/ </li>\n",
    "</ul>\n"
   ]
  },
  {
   "cell_type": "markdown",
   "metadata": {},
   "source": [
    "## Environment Setup\n",
    "\n",
    "Before beginning any Node.js project, there's a bit of initial setup that must be completed first. If you haven't installed Node.js yet, simply run the following command.\n",
    "\n",
    "```bash\n",
    "brew install node\n",
    "```"
   ]
  },
  {
   "cell_type": "markdown",
   "metadata": {},
   "source": [
    "Double check that Node.js and NPM were installed correctly by running, \n",
    "    \n",
    "```bash\n",
    "node --version\n",
    "npm --version\n",
    "```"
   ]
  },
  {
   "cell_type": "markdown",
   "metadata": {},
   "source": [
    "Next, run the following command to begin a Node.js project. Feel free to fill out the prompts or simply click enter until the dialog completes. \n",
    "\n",
    "``` bash \n",
    "    npm init\n",
    "```\n",
    "\n",
    "If you look inside the current directory, you will see a new file titled package.json. If you plan to publish your project, this file includes the metadata on the project that prospective users will see on NPM's website, such as name and search tags. This file also lists the projects dependencies, so other users can run your code on their machine. The package.json file and NPM make Node.js applications highly portable between systems. "
   ]
  },
  {
   "cell_type": "markdown",
   "metadata": {},
   "source": [
    "This project has a number of dependencies that should be installed prior to writing any code. Installing dependencies is simple. Use the following format to install the modules express, fs, mongodb, gridfs-stream, multer and morgan.\n",
    "\n",
    "```bash\n",
    "npm install <package name> --save\n",
    "```\n",
    "<h4> Module Descriptions </h4>\n",
    "<ul>\n",
    "    <li> expresss - applicatin framework </li>\n",
    "    <li> fs - interacting with the file system </li>\n",
    "    <li> mongodb - connecting to mongo database </li>\n",
    "    <li> gridfs-stream - streaming files to and from database </li>\n",
    "    <li> multer - parsing multipart form data </li>\n",
    "    <li> morgan - recording api activity </li>\n",
    "        \n",
    "</ul>"
   ]
  },
  {
   "cell_type": "markdown",
   "metadata": {},
   "source": [
    "As an aside, the following tutorial will get you started on developing this api. It is not meant to walk you through the entire process. The user interface is left to the reader to complete. That being said, there is no reason the user interface must be graphical. The api could be interfaced using the command line or any number of methods. Look into express's view engines and static files documentation for this part of the project. "
   ]
  },
  {
   "cell_type": "markdown",
   "metadata": {},
   "source": [
    "## Connect to Database and Begin Server\n",
    "\n",
    "Create a file in your project directory and title it \"app.js\". This is where the bulk of the code will be written. Use the following lines of code to gain access to the projects dependencies.\n",
    "\n",
    "```javascript\n",
    "const mongodb = require('mongodb')\n",
    "const express = require('express')\n",
    "```\n",
    "Repeat this for the remaining dependencies or require them as needed. \n",
    "\n",
    "Now create your express app.\n",
    "\n",
    "```javascript\n",
    "const app = express()\n",
    "app.listen(3000)\n",
    "```\n",
    "\n",
    "When the application is running all of the traffic on port 3000 is routed through the app. Next, create a const called URI and assign it the uri of your mongodb. The uri can be found on the databases console on mLab's website. Be sure to update the uri with your credentials. Retrieve your credentials by creating a user for your database on mLab. \n",
    "\n",
    "```javascript\n",
    "// connect to mongo database\n",
    "const URI = 'mongodb://' + process.env.USERNAME + ':' + process.env.PASSWORD + '@ds245240.mlab.com:45240/file-api'\n",
    "mongo.MongoClient.connect(URI, async (err, db) => {\n",
    "  if (err) return console.log(err)\n",
    "  gfs = grid(db,mongo)\n",
    "  console.log('connected to db')\n",
    "})\n",
    "\n",
    "```\n",
    "\n"
   ]
  },
  {
   "cell_type": "markdown",
   "metadata": {},
   "source": [
    "Note the line of code that reads ```javascript gfs = grid(db, mongo)```. The gfs object is how our application will communicate with the mongodb. "
   ]
  },
  {
   "cell_type": "markdown",
   "metadata": {},
   "source": [
    "## Upload Files To Database \n",
    "\n",
    "Express routing offers a plethora of routing methods but for this project we're going to simply use the GET method and POST method. Most modern browsers only support GET and POST requests, so it's worth working within these constraints. As can be deduced from the names, GET requests are for retreiving information from a server and POST requests are for transfering data to the server. Naturally, the upload file endpoint will listen for post requests. Express routes are set up using the following form. \n",
    "\n",
    "```javascript\n",
    "app.post('/upload', (req, res) => {\n",
    "    // code!!\n",
    "})                             \n",
    "```\n",
    "\n",
    "The application is being designed to easly port with the front end. A popular form encoding is 'multipart/form-data ', which is where multer will come into play. Update the code thusly: \n",
    "\n",
    "```javascript\n",
    "const upload = require('multer')({dest:'upload'})\n",
    "app.post('/u tpload', upload.single('file'), (req, res) => {\n",
    "    // code!!\n",
    "})                             \n",
    "```\n",
    "\n",
    "Now, the request object has a file field that can be accessed simply by typing ```javascript req.file```. Its worth printing out the request object before and after using multer. Parsing out the file is a little more involved than it appears. After completing this read through, you will certainly be more prepared to explore middlewares such as multer and body-parser. \n",
    "\n",
    "As mentioned earlier, we are going to use streams to move data between the users browser and the database. Streams are not an easy topic but with practice they begin to make more sense. I've included a link to a good document that outlines streams. What they boil down to is an array or buffer where not all the data is available at once. This makes streams great in instances where you're working under memory constraints. To upload a file to the database we need to open a read stream to the file and a write stream to the database. Afterwards, we'll use the stream function pipe to move data between the two streams. Use the fs module to create a read stream from the file and gridfs-stream to open a write stream to the database. The code will look something like this. \n",
    "\n",
    "```javascript\n",
    "// create read stream from file\n",
    "loc = path.join(__dirname,req.file.path)\n",
    "readStream = fs.createReadStream(loc)\n",
    "\n",
    "// create write stream to db w/ tags as aliases\n",
    "writeStream = gfs.createWriteStream()\n",
    "\n",
    "// pipe file to database\n",
    "readStream.pipe(writeStream)\n",
    "```\n",
    "\n",
    "It's as simple as that!! Checkout the database viewer on mLab to see if it worked. You will need to have coded up some way of submiting form data to this endpoint before testing.\n",
    "\n",
    "When writing to the database you have the option to include more options such as custom file names and aliases. I like to use the alias option to include file tags but the metadata option is just as good! The write stream looks like this after these updates:\n",
    "\n",
    "```javascript \n",
    "writeStream = gfs.createWriteStream({\n",
    "    filename: <filename>\n",
    "    aliases: [<alias1, alias2 ...>]                               \n",
    "}) \n",
    "```\n",
    "\n",
    "Lastly, the client is expecting some sort of confirmation from the server. To end the client-server interaction include the following line of code:\n",
    "\n",
    "```javascript\n",
    "res.send('Success!')\n",
    "```"
   ]
  },
  {
   "cell_type": "markdown",
   "metadata": {},
   "source": [
    "## Conclusion \n",
    "\n",
    "At this point you should be equipped with the tools to complete the remainder of the implementation. Ofcourse you could stop here but wouldnt it be nice if you could download files, delete files or query the database? The link to the gridfs-stream documentation is included below as well as a few other relevent links. \n",
    "\n",
    "Links:\n",
    "<ul>\n",
    "    <li> gridfs-stream: https://github.com/aheckmann/gridfs-stream </li>\n",
    "    <li> streams: https://github.com/aheckmann/gridfs-stream </li>\n",
    "    <li> source code: https://github.com/ethantanen/File-Share-API </li>\n",
    "    \n",
    "    \n",
    "</ul>"
   ]
  },
  {
   "cell_type": "code",
   "execution_count": null,
   "metadata": {},
   "outputs": [],
   "source": []
  }
 ],
 "metadata": {
  "kernelspec": {
   "display_name": "Javascript (Node.js)",
   "language": "javascript",
   "name": "javascript"
  },
  "language_info": {
   "file_extension": ".js",
   "mimetype": "application/javascript",
   "name": "javascript",
   "version": "8.11.2"
  }
 },
 "nbformat": 4,
 "nbformat_minor": 2
}
